{
 "cells": [
  {
   "cell_type": "markdown",
   "metadata": {},
   "source": [
    "## Import the Libraries"
   ]
  },
  {
   "cell_type": "code",
   "execution_count": 1,
   "metadata": {},
   "outputs": [],
   "source": [
    "import pandas as pd\n",
    "import matplotlib.pyplot as plt\n",
    "import requests\n",
    "from bs4 import BeautifulSoup\n",
    "from collections import OrderedDict\n",
    "import os"
   ]
  },
  {
   "cell_type": "markdown",
   "metadata": {},
   "source": [
    "## Scrape Billboard Top 100 Data"
   ]
  },
  {
   "cell_type": "code",
   "execution_count": 4,
   "metadata": {},
   "outputs": [
    {
     "data": {
      "text/html": [
       "<div>\n",
       "<style scoped>\n",
       "    .dataframe tbody tr th:only-of-type {\n",
       "        vertical-align: middle;\n",
       "    }\n",
       "\n",
       "    .dataframe tbody tr th {\n",
       "        vertical-align: top;\n",
       "    }\n",
       "\n",
       "    .dataframe thead th {\n",
       "        text-align: right;\n",
       "    }\n",
       "</style>\n",
       "<table border=\"1\" class=\"dataframe\">\n",
       "  <thead>\n",
       "    <tr style=\"text-align: right;\">\n",
       "      <th></th>\n",
       "      <th>Artist</th>\n",
       "      <th>Title</th>\n",
       "      <th>Year</th>\n",
       "    </tr>\n",
       "  </thead>\n",
       "  <tbody>\n",
       "    <tr>\n",
       "      <th>0</th>\n",
       "      <td>Francis Craig</td>\n",
       "      <td>Near You</td>\n",
       "      <td>1947</td>\n",
       "    </tr>\n",
       "    <tr>\n",
       "      <th>1</th>\n",
       "      <td>The Harmonicats</td>\n",
       "      <td>Peg O’ My Heart</td>\n",
       "      <td>1947</td>\n",
       "    </tr>\n",
       "    <tr>\n",
       "      <th>2</th>\n",
       "      <td>Ted Weems</td>\n",
       "      <td>Heartaches</td>\n",
       "      <td>1947</td>\n",
       "    </tr>\n",
       "    <tr>\n",
       "      <th>3</th>\n",
       "      <td>Ray Noble and Buddy Clark</td>\n",
       "      <td>Linda</td>\n",
       "      <td>1947</td>\n",
       "    </tr>\n",
       "    <tr>\n",
       "      <th>4</th>\n",
       "      <td>Tex Williams</td>\n",
       "      <td>Smoke, Smoke, Smoke That Cigarette</td>\n",
       "      <td>1947</td>\n",
       "    </tr>\n",
       "  </tbody>\n",
       "</table>\n",
       "</div>"
      ],
      "text/plain": [
       "                      Artist                               Title  Year\n",
       "0              Francis Craig                            Near You  1947\n",
       "1            The Harmonicats                     Peg O’ My Heart  1947\n",
       "2                  Ted Weems                          Heartaches  1947\n",
       "3  Ray Noble and Buddy Clark                               Linda  1947\n",
       "4               Tex Williams  Smoke, Smoke, Smoke That Cigarette  1947"
      ]
     },
     "execution_count": 4,
     "metadata": {},
     "output_type": "execute_result"
    }
   ],
   "source": [
    "col = ['Artist','Title','Year']\n",
    "dataframe = pd.DataFrame()\n",
    "for i in range(1947,2013):\n",
    "    artist = []\n",
    "    song_title = []\n",
    "    year = []\n",
    "    url = \"http://billboardtop100of.com/\"+str(i)+\"-2/\"\n",
    "    source = requests.get(url).text\n",
    "    soup = BeautifulSoup(source,'lxml')\n",
    "    table = soup.find('alignleft',class_ = 'table')\n",
    "    for row in soup.find_all('tr'):\n",
    "        cells = row.find_all('td')\n",
    "        if len(cells) == 3:\n",
    "            artist.append(cells[1].text.strip())\n",
    "            song_title.append(cells[2].text.strip())\n",
    "    df = pd.DataFrame() \n",
    "    year = [i for k in range(0,len(artist))]\n",
    "    col_data = OrderedDict(zip(col,[artist,song_title,year]))\n",
    "    df = pd.DataFrame(col_data)\n",
    "    dataframe = dataframe.append(df)\n",
    "dataframe.head()"
   ]
  },
  {
   "cell_type": "markdown",
   "metadata": {},
   "source": [
    "## Save to CSV"
   ]
  },
  {
   "cell_type": "code",
   "execution_count": 5,
   "metadata": {},
   "outputs": [],
   "source": [
    "dataframe.to_csv('Datasets/Billboardtop100.csv')"
   ]
  }
 ],
 "metadata": {
  "kernelspec": {
   "display_name": "Python 3",
   "language": "python",
   "name": "python3"
  },
  "language_info": {
   "codemirror_mode": {
    "name": "ipython",
    "version": 3
   },
   "file_extension": ".py",
   "mimetype": "text/x-python",
   "name": "python",
   "nbconvert_exporter": "python",
   "pygments_lexer": "ipython3",
   "version": "3.7.6"
  }
 },
 "nbformat": 4,
 "nbformat_minor": 4
}
