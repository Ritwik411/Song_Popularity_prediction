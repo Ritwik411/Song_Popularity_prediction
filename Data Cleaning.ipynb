{
 "cells": [
  {
   "cell_type": "markdown",
   "metadata": {},
   "source": [
    "## Importing required libraries"
   ]
  },
  {
   "cell_type": "code",
   "execution_count": 33,
   "metadata": {},
   "outputs": [],
   "source": [
    "import pandas as pd\n",
    "import numpy as np\n",
    "import re\n",
    "from impyute.imputation.cs import mice\n",
    "import warnings\n",
    "warnings.simplefilter(\"ignore\")"
   ]
  },
  {
   "cell_type": "markdown",
   "metadata": {},
   "source": [
    "### Funcion to clean the data"
   ]
  },
  {
   "cell_type": "code",
   "execution_count": 34,
   "metadata": {},
   "outputs": [],
   "source": [
    "def b2s(value):\n",
    "    value = re.sub(r\"^b'\",'',value)\n",
    "    value = re.sub(r'^b','',value)\n",
    "    value = re.sub(r\"'\",'',value)\n",
    "    value = re.sub(r'\\\"','',value)\n",
    "    value = re.sub(r\" ?\\([^)]+\\)\", \"\", value)\n",
    "    value = re.sub(r'\\,','',value)\n",
    "    value = re.sub(r'\\’','',value)\n",
    "    return value"
   ]
  },
  {
   "cell_type": "markdown",
   "metadata": {},
   "source": [
    "# Load The data"
   ]
  },
  {
   "cell_type": "code",
   "execution_count": 35,
   "metadata": {},
   "outputs": [],
   "source": [
    "dataset = pd.read_csv('Datasets/Million.csv').drop(['Unnamed: 0'],axis = 1)\n",
    "df_bb = pd.read_csv('Datasets/Billboardtop100.csv').drop('Unnamed: 0',axis = 1)\n",
    "df_y = pd.read_csv('Datasets/Years.csv').drop('Unnamed: 0',axis = 1)\n",
    "df_y['Title'] = df_y['Title'].apply(lambda x: re.sub('[^0-9a-zA-Z\\s]','',str(x)))"
   ]
  },
  {
   "cell_type": "markdown",
   "metadata": {},
   "source": [
    "# Pre-Processing\n",
    "\n",
    "#### 1. Stripping [] and b''"
   ]
  },
  {
   "cell_type": "code",
   "execution_count": 36,
   "metadata": {},
   "outputs": [],
   "source": [
    "for col in dataset:\n",
    "    if dataset[col].dtype==object:\n",
    "        dataset[col]=dataset[col].str.replace(\"b'\",\"\")\n",
    "        dataset[col]=dataset[col].str.replace(\"'\",\"\")\n",
    "        dataset[col]=dataset[col].str.strip('[]')"
   ]
  },
  {
   "cell_type": "markdown",
   "metadata": {},
   "source": [
    "#### 2. Cleaning the title column of billboard dataset"
   ]
  },
  {
   "cell_type": "code",
   "execution_count": 37,
   "metadata": {},
   "outputs": [],
   "source": [
    "df_bb['Title'] = df_bb['Title'].apply(lambda x:b2s(x))\n",
    "df_bb['Title']= df_bb['Title'].drop_duplicates(keep='first')\n",
    "df_bb = df_bb.dropna()"
   ]
  },
  {
   "cell_type": "markdown",
   "metadata": {},
   "source": [
    "3. Function to add song popularity from bill board charts"
   ]
  },
  {
   "cell_type": "code",
   "execution_count": 38,
   "metadata": {},
   "outputs": [
    {
     "data": {
      "text/plain": [
       "count    5648.000000\n",
       "mean        0.342822\n",
       "std         0.247220\n",
       "min         0.000000\n",
       "25%         0.000000\n",
       "50%         0.360371\n",
       "75%         0.537504\n",
       "max         1.000000\n",
       "Name: song_hotttnesss, dtype: float64"
      ]
     },
     "execution_count": 38,
     "metadata": {},
     "output_type": "execute_result"
    }
   ],
   "source": [
    "def hits(data):\n",
    "    if data['title'] in list(df_bb['Title']):\n",
    "        return 1\n",
    "    else:\n",
    "        return 0\n",
    "dataset['song_hotttnesss'].describe()"
   ]
  },
  {
   "cell_type": "code",
   "execution_count": 39,
   "metadata": {},
   "outputs": [],
   "source": [
    "dataset['song_hotttnesss'] = dataset['song_hotttnesss'].fillna(0) "
   ]
  },
  {
   "cell_type": "markdown",
   "metadata": {},
   "source": [
    "#### 4. Classifying songs as popular which have popularity over 75 percentile"
   ]
  },
  {
   "cell_type": "code",
   "execution_count": 40,
   "metadata": {},
   "outputs": [],
   "source": [
    "for i in range(0,len(dataset['song_hotttnesss'])):\n",
    "    if dataset['song_hotttnesss'][i]< 0.538:\n",
    "        dataset['song_hotttnesss'][i] = 0\n",
    "    elif (dataset['song_hotttnesss'][i] >= 0.538):\n",
    "        dataset['song_hotttnesss'][i] = 1"
   ]
  },
  {
   "cell_type": "markdown",
   "metadata": {},
   "source": [
    "##### Classify the songs found as popular (hottness=1)"
   ]
  },
  {
   "cell_type": "code",
   "execution_count": 41,
   "metadata": {},
   "outputs": [],
   "source": [
    "df_comp = pd.DataFrame(dataset[dataset['song_hotttnesss']==0]['title'])\n",
    "df_comp['song_hottness'] = df_comp.apply(hits,axis = 1)\n",
    "df_comp = df_comp[df_comp['song_hottness']==1]"
   ]
  },
  {
   "cell_type": "code",
   "execution_count": 42,
   "metadata": {},
   "outputs": [
    {
     "name": "stdout",
     "output_type": "stream",
     "text": [
      "(388, 2)\n"
     ]
    }
   ],
   "source": [
    "print(df_comp.shape)"
   ]
  },
  {
   "cell_type": "markdown",
   "metadata": {},
   "source": [
    "##### Merge Songs which have the same title"
   ]
  },
  {
   "cell_type": "code",
   "execution_count": 43,
   "metadata": {},
   "outputs": [
    {
     "name": "stdout",
     "output_type": "stream",
     "text": [
      "0.0    8203\n",
      "1.0    1797\n",
      "Name: song_hotttnesss, dtype: int64\n"
     ]
    }
   ],
   "source": [
    "for i in range(0,10000):\n",
    "    if dataset['title'][i] in list(df_comp['title']):\n",
    "        dataset['song_hotttnesss'][i] = 1\n",
    "print(dataset['song_hotttnesss'].value_counts())"
   ]
  },
  {
   "cell_type": "markdown",
   "metadata": {},
   "source": [
    "#### 5. Function to clean the symbols from array columns"
   ]
  },
  {
   "cell_type": "code",
   "execution_count": 54,
   "metadata": {},
   "outputs": [],
   "source": [
    "def clean_symbols(value):\n",
    "    for i in range(len(dataset)):\n",
    "        dataset[value][i] = re.sub(r'  ',' ',str(dataset[value][i]))\n",
    "        dataset[value][i] = re.sub(r'\\[',' ',str(dataset[value][i]))\n",
    "        dataset[value][i] = re.sub(r'\\]',' ',str(dataset[value][i]))\n",
    "        dataset[value][i] = re.sub(r'\\.\\.\\.',' ',str(dataset[value][i]))\n",
    "        l1 = str(dataset[value][i]).split()\n",
    "        mean = np.mean([float(i) for i in l1])\n",
    "        dataset[value][i] = mean"
   ]
  },
  {
   "cell_type": "code",
   "execution_count": 55,
   "metadata": {},
   "outputs": [
    {
     "data": {
      "text/html": [
       "<div>\n",
       "<style scoped>\n",
       "    .dataframe tbody tr th:only-of-type {\n",
       "        vertical-align: middle;\n",
       "    }\n",
       "\n",
       "    .dataframe tbody tr th {\n",
       "        vertical-align: top;\n",
       "    }\n",
       "\n",
       "    .dataframe thead th {\n",
       "        text-align: right;\n",
       "    }\n",
       "</style>\n",
       "<table border=\"1\" class=\"dataframe\">\n",
       "  <thead>\n",
       "    <tr style=\"text-align: right;\">\n",
       "      <th></th>\n",
       "      <th>analysis_sample_rate</th>\n",
       "      <th>artist_7digitalid</th>\n",
       "      <th>artist_familiarity</th>\n",
       "      <th>artist_hotttnesss</th>\n",
       "      <th>artist_id</th>\n",
       "      <th>artist_latitude</th>\n",
       "      <th>artist_location</th>\n",
       "      <th>artist_longitude</th>\n",
       "      <th>artist_mbid</th>\n",
       "      <th>artist_mbtags</th>\n",
       "      <th>...</th>\n",
       "      <th>tatums_confidence</th>\n",
       "      <th>tatums_start</th>\n",
       "      <th>tempo</th>\n",
       "      <th>time_signature</th>\n",
       "      <th>time_signature_confidence</th>\n",
       "      <th>title</th>\n",
       "      <th>track_7digitalid</th>\n",
       "      <th>track_id</th>\n",
       "      <th>transfer_note</th>\n",
       "      <th>year</th>\n",
       "    </tr>\n",
       "  </thead>\n",
       "  <tbody>\n",
       "    <tr>\n",
       "      <th>0</th>\n",
       "      <td>22050.0</td>\n",
       "      <td>165270.0</td>\n",
       "      <td>0.581794</td>\n",
       "      <td>0.401998</td>\n",
       "      <td>ARD7TVE1187B99BFB1</td>\n",
       "      <td>NaN</td>\n",
       "      <td>California - LA</td>\n",
       "      <td>NaN</td>\n",
       "      <td>e77e51a5-4761-45b3-9847-2051f811e366</td>\n",
       "      <td></td>\n",
       "      <td>...</td>\n",
       "      <td>0.455733</td>\n",
       "      <td>108.824</td>\n",
       "      <td>92.198</td>\n",
       "      <td>4.0</td>\n",
       "      <td>0.778</td>\n",
       "      <td>b\"I Didnt Mean To\"</td>\n",
       "      <td>3401791.0</td>\n",
       "      <td>TRAAAAW128F429D538</td>\n",
       "      <td>transferred on Thu Jan  2 18:08:59 2020 from f...</td>\n",
       "      <td>0.0</td>\n",
       "    </tr>\n",
       "    <tr>\n",
       "      <th>1</th>\n",
       "      <td>22050.0</td>\n",
       "      <td>1998.0</td>\n",
       "      <td>0.630630</td>\n",
       "      <td>0.417500</td>\n",
       "      <td>ARMJAGH1187FB546F3</td>\n",
       "      <td>35.14968</td>\n",
       "      <td>Memphis, TN</td>\n",
       "      <td>-90.04892</td>\n",
       "      <td>1c78ab62-db33-4433-8d0b-7c8dcf1849c2</td>\n",
       "      <td>classic pop and rock</td>\n",
       "      <td>...</td>\n",
       "      <td>0.616008</td>\n",
       "      <td>73.2011</td>\n",
       "      <td>121.274</td>\n",
       "      <td>4.0</td>\n",
       "      <td>0.384</td>\n",
       "      <td>Soul Deep</td>\n",
       "      <td>3400270.0</td>\n",
       "      <td>TRAAABD128F429CF47</td>\n",
       "      <td>transferred on Thu Jan  2 18:08:59 2020 from f...</td>\n",
       "      <td>1969.0</td>\n",
       "    </tr>\n",
       "    <tr>\n",
       "      <th>2</th>\n",
       "      <td>22050.0</td>\n",
       "      <td>290021.0</td>\n",
       "      <td>0.487357</td>\n",
       "      <td>0.343428</td>\n",
       "      <td>ARKRRTF1187B9984DA</td>\n",
       "      <td>NaN</td>\n",
       "      <td></td>\n",
       "      <td>NaN</td>\n",
       "      <td>7a273984-edd9-4451-9c4d-39b38f05ebcd</td>\n",
       "      <td></td>\n",
       "      <td>...</td>\n",
       "      <td>0.33256</td>\n",
       "      <td>86.6473</td>\n",
       "      <td>100.070</td>\n",
       "      <td>1.0</td>\n",
       "      <td>0.000</td>\n",
       "      <td>Amor De Cabaret</td>\n",
       "      <td>5703798.0</td>\n",
       "      <td>TRAAADZ128F9348C2E</td>\n",
       "      <td>transferred on Thu Jan  2 18:08:59 2020 from f...</td>\n",
       "      <td>0.0</td>\n",
       "    </tr>\n",
       "    <tr>\n",
       "      <th>3</th>\n",
       "      <td>22050.0</td>\n",
       "      <td>19072.0</td>\n",
       "      <td>0.630382</td>\n",
       "      <td>0.454231</td>\n",
       "      <td>AR7G5I41187FB4CE6C</td>\n",
       "      <td>NaN</td>\n",
       "      <td>London, England</td>\n",
       "      <td>NaN</td>\n",
       "      <td>e188a520-9cb7-4f73-a3d7-2f70c6538e92</td>\n",
       "      <td>uk british english</td>\n",
       "      <td>...</td>\n",
       "      <td>0.260192</td>\n",
       "      <td>116.617</td>\n",
       "      <td>119.293</td>\n",
       "      <td>4.0</td>\n",
       "      <td>0.000</td>\n",
       "      <td>Something Girls</td>\n",
       "      <td>3226795.0</td>\n",
       "      <td>TRAAAEF128F4273421</td>\n",
       "      <td>transferred on Thu Jan  2 18:08:59 2020 from f...</td>\n",
       "      <td>1982.0</td>\n",
       "    </tr>\n",
       "    <tr>\n",
       "      <th>4</th>\n",
       "      <td>22050.0</td>\n",
       "      <td>30973.0</td>\n",
       "      <td>0.651046</td>\n",
       "      <td>0.401724</td>\n",
       "      <td>ARXR32B1187FB57099</td>\n",
       "      <td>NaN</td>\n",
       "      <td></td>\n",
       "      <td>NaN</td>\n",
       "      <td>c6903a2e-063c-4f91-a284-17b8f421be7</td>\n",
       "      <td></td>\n",
       "      <td>...</td>\n",
       "      <td>0.257529</td>\n",
       "      <td>102.531</td>\n",
       "      <td>129.738</td>\n",
       "      <td>4.0</td>\n",
       "      <td>0.562</td>\n",
       "      <td>Face the Ashes</td>\n",
       "      <td>6795666.0</td>\n",
       "      <td>TRAAAFD128F92F423A</td>\n",
       "      <td>transferred on Thu Jan  2 18:08:59 2020 from f...</td>\n",
       "      <td>2007.0</td>\n",
       "    </tr>\n",
       "  </tbody>\n",
       "</table>\n",
       "<p>5 rows × 55 columns</p>\n",
       "</div>"
      ],
      "text/plain": [
       "   analysis_sample_rate  artist_7digitalid  artist_familiarity  \\\n",
       "0               22050.0           165270.0            0.581794   \n",
       "1               22050.0             1998.0            0.630630   \n",
       "2               22050.0           290021.0            0.487357   \n",
       "3               22050.0            19072.0            0.630382   \n",
       "4               22050.0            30973.0            0.651046   \n",
       "\n",
       "   artist_hotttnesss           artist_id  artist_latitude  artist_location  \\\n",
       "0           0.401998  ARD7TVE1187B99BFB1              NaN  California - LA   \n",
       "1           0.417500  ARMJAGH1187FB546F3         35.14968      Memphis, TN   \n",
       "2           0.343428  ARKRRTF1187B9984DA              NaN                    \n",
       "3           0.454231  AR7G5I41187FB4CE6C              NaN  London, England   \n",
       "4           0.401724  ARXR32B1187FB57099              NaN                    \n",
       "\n",
       "   artist_longitude                           artist_mbid  \\\n",
       "0               NaN  e77e51a5-4761-45b3-9847-2051f811e366   \n",
       "1         -90.04892  1c78ab62-db33-4433-8d0b-7c8dcf1849c2   \n",
       "2               NaN  7a273984-edd9-4451-9c4d-39b38f05ebcd   \n",
       "3               NaN  e188a520-9cb7-4f73-a3d7-2f70c6538e92   \n",
       "4               NaN   c6903a2e-063c-4f91-a284-17b8f421be7   \n",
       "\n",
       "          artist_mbtags  ... tatums_confidence tatums_start    tempo  \\\n",
       "0                        ...          0.455733      108.824   92.198   \n",
       "1  classic pop and rock  ...          0.616008      73.2011  121.274   \n",
       "2                        ...           0.33256      86.6473  100.070   \n",
       "3    uk british english  ...          0.260192      116.617  119.293   \n",
       "4                        ...          0.257529      102.531  129.738   \n",
       "\n",
       "  time_signature time_signature_confidence               title  \\\n",
       "0            4.0                     0.778  b\"I Didnt Mean To\"   \n",
       "1            4.0                     0.384           Soul Deep   \n",
       "2            1.0                     0.000     Amor De Cabaret   \n",
       "3            4.0                     0.000     Something Girls   \n",
       "4            4.0                     0.562      Face the Ashes   \n",
       "\n",
       "  track_7digitalid            track_id  \\\n",
       "0        3401791.0  TRAAAAW128F429D538   \n",
       "1        3400270.0  TRAAABD128F429CF47   \n",
       "2        5703798.0  TRAAADZ128F9348C2E   \n",
       "3        3226795.0  TRAAAEF128F4273421   \n",
       "4        6795666.0  TRAAAFD128F92F423A   \n",
       "\n",
       "                                       transfer_note    year  \n",
       "0  transferred on Thu Jan  2 18:08:59 2020 from f...     0.0  \n",
       "1  transferred on Thu Jan  2 18:08:59 2020 from f...  1969.0  \n",
       "2  transferred on Thu Jan  2 18:08:59 2020 from f...     0.0  \n",
       "3  transferred on Thu Jan  2 18:08:59 2020 from f...  1982.0  \n",
       "4  transferred on Thu Jan  2 18:08:59 2020 from f...  2007.0  \n",
       "\n",
       "[5 rows x 55 columns]"
      ]
     },
     "execution_count": 55,
     "metadata": {},
     "output_type": "execute_result"
    }
   ],
   "source": [
    "col = ['bars_start','beats_confidence','beats_start','beats_confidence','bars_confidence','sections_confidence','sections_start','segments_confidence','segments_loudness_max','segments_loudness_max_time','segments_loudness_start','segments_start','segments_pitches','tatums_confidence','tatums_start','segments_timbre']\n",
    "for item in col:\n",
    "    clean_symbols(item)    \n",
    "dataset.head()"
   ]
  },
  {
   "cell_type": "markdown",
   "metadata": {},
   "source": [
    "### Create a Feature column"
   ]
  },
  {
   "cell_type": "code",
   "execution_count": 46,
   "metadata": {},
   "outputs": [
    {
     "data": {
      "text/html": [
       "<div>\n",
       "<style scoped>\n",
       "    .dataframe tbody tr th:only-of-type {\n",
       "        vertical-align: middle;\n",
       "    }\n",
       "\n",
       "    .dataframe tbody tr th {\n",
       "        vertical-align: top;\n",
       "    }\n",
       "\n",
       "    .dataframe thead th {\n",
       "        text-align: right;\n",
       "    }\n",
       "</style>\n",
       "<table border=\"1\" class=\"dataframe\">\n",
       "  <thead>\n",
       "    <tr style=\"text-align: right;\">\n",
       "      <th></th>\n",
       "      <th>artist_familiarity</th>\n",
       "      <th>artist_hotttnesss</th>\n",
       "      <th>bars_confidence</th>\n",
       "      <th>bars_start</th>\n",
       "      <th>beats_confidence</th>\n",
       "      <th>beats_start</th>\n",
       "      <th>danceability</th>\n",
       "      <th>duration</th>\n",
       "      <th>end_of_fade_in</th>\n",
       "      <th>energy</th>\n",
       "      <th>...</th>\n",
       "      <th>segments_pitches</th>\n",
       "      <th>segments_start</th>\n",
       "      <th>segments_timbre</th>\n",
       "      <th>start_of_fade_out</th>\n",
       "      <th>tatums_confidence</th>\n",
       "      <th>tatums_start</th>\n",
       "      <th>tempo</th>\n",
       "      <th>time_signature</th>\n",
       "      <th>time_signature_confidence</th>\n",
       "      <th>year</th>\n",
       "    </tr>\n",
       "  </thead>\n",
       "  <tbody>\n",
       "    <tr>\n",
       "      <th>0</th>\n",
       "      <td>0.581794</td>\n",
       "      <td>0.401998</td>\n",
       "      <td>0.172096</td>\n",
       "      <td>108.164</td>\n",
       "      <td>0.611462</td>\n",
       "      <td>108.983</td>\n",
       "      <td>0.0</td>\n",
       "      <td>218.93179</td>\n",
       "      <td>0.247</td>\n",
       "      <td>0.0</td>\n",
       "      <td>...</td>\n",
       "      <td>0.461889</td>\n",
       "      <td>108.114</td>\n",
       "      <td>-11.715</td>\n",
       "      <td>218.932</td>\n",
       "      <td>0.455733</td>\n",
       "      <td>108.824</td>\n",
       "      <td>92.198</td>\n",
       "      <td>4.0</td>\n",
       "      <td>0.778</td>\n",
       "      <td>0.0</td>\n",
       "    </tr>\n",
       "    <tr>\n",
       "      <th>1</th>\n",
       "      <td>0.630630</td>\n",
       "      <td>0.417500</td>\n",
       "      <td>0.122562</td>\n",
       "      <td>71.9683</td>\n",
       "      <td>0.730807</td>\n",
       "      <td>73.2008</td>\n",
       "      <td>0.0</td>\n",
       "      <td>148.03546</td>\n",
       "      <td>0.148</td>\n",
       "      <td>0.0</td>\n",
       "      <td>...</td>\n",
       "      <td>0.54725</td>\n",
       "      <td>72.8932</td>\n",
       "      <td>16.3049</td>\n",
       "      <td>137.915</td>\n",
       "      <td>0.616008</td>\n",
       "      <td>73.2011</td>\n",
       "      <td>121.274</td>\n",
       "      <td>4.0</td>\n",
       "      <td>0.384</td>\n",
       "      <td>1969.0</td>\n",
       "    </tr>\n",
       "    <tr>\n",
       "      <th>2</th>\n",
       "      <td>0.487357</td>\n",
       "      <td>0.343428</td>\n",
       "      <td>0.43055</td>\n",
       "      <td>86.7962</td>\n",
       "      <td>0.43055</td>\n",
       "      <td>86.7962</td>\n",
       "      <td>0.0</td>\n",
       "      <td>177.47546</td>\n",
       "      <td>0.282</td>\n",
       "      <td>0.0</td>\n",
       "      <td>...</td>\n",
       "      <td>0.377611</td>\n",
       "      <td>86.839</td>\n",
       "      <td>17.4227</td>\n",
       "      <td>172.304</td>\n",
       "      <td>0.33256</td>\n",
       "      <td>86.6473</td>\n",
       "      <td>100.070</td>\n",
       "      <td>1.0</td>\n",
       "      <td>0.000</td>\n",
       "      <td>0.0</td>\n",
       "    </tr>\n",
       "    <tr>\n",
       "      <th>3</th>\n",
       "      <td>0.630382</td>\n",
       "      <td>0.454231</td>\n",
       "      <td>0.118609</td>\n",
       "      <td>115.989</td>\n",
       "      <td>0.621877</td>\n",
       "      <td>116.743</td>\n",
       "      <td>0.0</td>\n",
       "      <td>233.40363</td>\n",
       "      <td>0.000</td>\n",
       "      <td>0.0</td>\n",
       "      <td>...</td>\n",
       "      <td>0.3085</td>\n",
       "      <td>112.635</td>\n",
       "      <td>30.0667</td>\n",
       "      <td>217.124</td>\n",
       "      <td>0.260192</td>\n",
       "      <td>116.617</td>\n",
       "      <td>119.293</td>\n",
       "      <td>4.0</td>\n",
       "      <td>0.000</td>\n",
       "      <td>1982.0</td>\n",
       "    </tr>\n",
       "    <tr>\n",
       "      <th>4</th>\n",
       "      <td>0.651046</td>\n",
       "      <td>0.401724</td>\n",
       "      <td>0.127936</td>\n",
       "      <td>101.84</td>\n",
       "      <td>0.435171</td>\n",
       "      <td>102.531</td>\n",
       "      <td>0.0</td>\n",
       "      <td>209.60608</td>\n",
       "      <td>0.066</td>\n",
       "      <td>0.0</td>\n",
       "      <td>...</td>\n",
       "      <td>0.471611</td>\n",
       "      <td>98.9574</td>\n",
       "      <td>24.9604</td>\n",
       "      <td>198.699</td>\n",
       "      <td>0.257529</td>\n",
       "      <td>102.531</td>\n",
       "      <td>129.738</td>\n",
       "      <td>4.0</td>\n",
       "      <td>0.562</td>\n",
       "      <td>2007.0</td>\n",
       "    </tr>\n",
       "  </tbody>\n",
       "</table>\n",
       "<p>5 rows × 31 columns</p>\n",
       "</div>"
      ],
      "text/plain": [
       "   artist_familiarity  artist_hotttnesss bars_confidence bars_start  \\\n",
       "0            0.581794           0.401998        0.172096    108.164   \n",
       "1            0.630630           0.417500        0.122562    71.9683   \n",
       "2            0.487357           0.343428         0.43055    86.7962   \n",
       "3            0.630382           0.454231        0.118609    115.989   \n",
       "4            0.651046           0.401724        0.127936     101.84   \n",
       "\n",
       "  beats_confidence beats_start  danceability   duration  end_of_fade_in  \\\n",
       "0         0.611462     108.983           0.0  218.93179           0.247   \n",
       "1         0.730807     73.2008           0.0  148.03546           0.148   \n",
       "2          0.43055     86.7962           0.0  177.47546           0.282   \n",
       "3         0.621877     116.743           0.0  233.40363           0.000   \n",
       "4         0.435171     102.531           0.0  209.60608           0.066   \n",
       "\n",
       "   energy  ...  segments_pitches  segments_start  segments_timbre  \\\n",
       "0     0.0  ...          0.461889         108.114          -11.715   \n",
       "1     0.0  ...           0.54725         72.8932          16.3049   \n",
       "2     0.0  ...          0.377611          86.839          17.4227   \n",
       "3     0.0  ...            0.3085         112.635          30.0667   \n",
       "4     0.0  ...          0.471611         98.9574          24.9604   \n",
       "\n",
       "   start_of_fade_out  tatums_confidence tatums_start    tempo time_signature  \\\n",
       "0            218.932           0.455733      108.824   92.198            4.0   \n",
       "1            137.915           0.616008      73.2011  121.274            4.0   \n",
       "2            172.304            0.33256      86.6473  100.070            1.0   \n",
       "3            217.124           0.260192      116.617  119.293            4.0   \n",
       "4            198.699           0.257529      102.531  129.738            4.0   \n",
       "\n",
       "  time_signature_confidence    year  \n",
       "0                     0.778     0.0  \n",
       "1                     0.384  1969.0  \n",
       "2                     0.000     0.0  \n",
       "3                     0.000  1982.0  \n",
       "4                     0.562  2007.0  \n",
       "\n",
       "[5 rows x 31 columns]"
      ]
     },
     "execution_count": 46,
     "metadata": {},
     "output_type": "execute_result"
    }
   ],
   "source": [
    "features = dataset.drop(['analysis_sample_rate','artist_7digitalid','artist_latitude','artist_longitude','song_id','track_7digitalid','track_id','transfer_note','artist_id','artist_mbid','artist_playmeid','artist_mbtags','artist_mbtags_count','audio_md5','release_7digitalid','similar_artists','title','song_hotttnesss','artist_terms','artist_terms_freq','artist_terms_weight','release','artist_location','artist_name'],axis=1)\n",
    "features.head()"
   ]
  },
  {
   "cell_type": "code",
   "execution_count": 47,
   "metadata": {},
   "outputs": [],
   "source": [
    "features = features.replace('',np.nan)"
   ]
  },
  {
   "cell_type": "code",
   "execution_count": 48,
   "metadata": {},
   "outputs": [],
   "source": [
    "for i in features.columns:\n",
    "    if features[i].dtype == 'O':\n",
    "        features[i] = features[i].astype(float)"
   ]
  },
  {
   "cell_type": "markdown",
   "metadata": {},
   "source": [
    "##### # Replacing 0 with nan values as there is a very little chance for mean to be 0. This implies that the values are missing."
   ]
  },
  {
   "cell_type": "code",
   "execution_count": 49,
   "metadata": {},
   "outputs": [],
   "source": [
    "for i in col:\n",
    "    features[i] = features[i].replace(0,np.nan)"
   ]
  },
  {
   "cell_type": "code",
   "execution_count": 50,
   "metadata": {},
   "outputs": [],
   "source": [
    "features['year'] = features['year'].astype(int)\n",
    "features['year'] = features['year'].replace(0,np.nan)"
   ]
  },
  {
   "cell_type": "code",
   "execution_count": 51,
   "metadata": {},
   "outputs": [
    {
     "name": "stdout",
     "output_type": "stream",
     "text": [
      "<class 'pandas.core.frame.DataFrame'>\n",
      "RangeIndex: 10000 entries, 0 to 9999\n",
      "Data columns (total 31 columns):\n",
      " #   Column                      Non-Null Count  Dtype  \n",
      "---  ------                      --------------  -----  \n",
      " 0   artist_familiarity          9996 non-null   float64\n",
      " 1   artist_hotttnesss           10000 non-null  float64\n",
      " 2   bars_confidence             9935 non-null   float64\n",
      " 3   bars_start                  9970 non-null   float64\n",
      " 4   beats_confidence            9845 non-null   float64\n",
      " 5   beats_start                 9975 non-null   float64\n",
      " 6   danceability                10000 non-null  float64\n",
      " 7   duration                    10000 non-null  float64\n",
      " 8   end_of_fade_in              10000 non-null  float64\n",
      " 9   energy                      10000 non-null  float64\n",
      " 10  key                         10000 non-null  float64\n",
      " 11  key_confidence              10000 non-null  float64\n",
      " 12  loudness                    10000 non-null  float64\n",
      " 13  mode                        10000 non-null  float64\n",
      " 14  mode_confidence             10000 non-null  float64\n",
      " 15  sections_confidence         9964 non-null   float64\n",
      " 16  sections_start              9964 non-null   float64\n",
      " 17  segments_confidence         10000 non-null  float64\n",
      " 18  segments_loudness_max       10000 non-null  float64\n",
      " 19  segments_loudness_max_time  10000 non-null  float64\n",
      " 20  segments_loudness_start     10000 non-null  float64\n",
      " 21  segments_pitches            10000 non-null  float64\n",
      " 22  segments_start              10000 non-null  float64\n",
      " 23  segments_timbre             10000 non-null  float64\n",
      " 24  start_of_fade_out           10000 non-null  float64\n",
      " 25  tatums_confidence           9921 non-null   float64\n",
      " 26  tatums_start                9985 non-null   float64\n",
      " 27  tempo                       10000 non-null  float64\n",
      " 28  time_signature              10000 non-null  float64\n",
      " 29  time_signature_confidence   10000 non-null  float64\n",
      " 30  year                        4680 non-null   float64\n",
      "dtypes: float64(31)\n",
      "memory usage: 2.4 MB\n"
     ]
    }
   ],
   "source": [
    "features.info()"
   ]
  },
  {
   "cell_type": "markdown",
   "metadata": {},
   "source": [
    "#### Filling missing values using mice"
   ]
  },
  {
   "cell_type": "code",
   "execution_count": 52,
   "metadata": {},
   "outputs": [],
   "source": [
    "features_array = mice(np.array(features))"
   ]
  },
  {
   "cell_type": "markdown",
   "metadata": {},
   "source": [
    "#### Save the featrues and dataset to csv"
   ]
  },
  {
   "cell_type": "code",
   "execution_count": 53,
   "metadata": {},
   "outputs": [],
   "source": [
    "features = pd.DataFrame(features_array,columns=features.columns)\n",
    "features.year = features.year.astype(int)\n",
    "features.to_csv('Datasets/Feature_List.csv')\n",
    "dataset.to_csv('Datasets/Million_final.csv')"
   ]
  }
 ],
 "metadata": {
  "kernelspec": {
   "display_name": "Python 3",
   "language": "python",
   "name": "python3"
  },
  "language_info": {
   "codemirror_mode": {
    "name": "ipython",
    "version": 3
   },
   "file_extension": ".py",
   "mimetype": "text/x-python",
   "name": "python",
   "nbconvert_exporter": "python",
   "pygments_lexer": "ipython3",
   "version": "3.7.6"
  }
 },
 "nbformat": 4,
 "nbformat_minor": 4
}
